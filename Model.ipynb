{
 "cells": [
  {
   "cell_type": "markdown",
   "metadata": {},
   "source": [
    "<a href=\"https://colab.research.google.com/github/ultralytics/yolov5/blob/master/tutorial.ipynb\" target=\"_parent\"><img src=\"https://colab.research.google.com/assets/colab-badge.svg\" alt=\"Open In Colab\"/></a>"
   ]
  },
  {
   "cell_type": "markdown",
   "metadata": {},
   "source": [
    "# Automated Checkout"
   ]
  },
  {
   "cell_type": "markdown",
   "metadata": {},
   "source": [
    "All the codes are done in google colab and is relative to it"
   ]
  },
  {
   "cell_type": "markdown",
   "metadata": {},
   "source": [
    "### Clone the yolov5 repository"
   ]
  },
  {
   "cell_type": "code",
   "execution_count": 1,
   "metadata": {},
   "outputs": [
    {
     "name": "stdout",
     "output_type": "stream",
     "text": [
      "Cloning into 'yolov5'...\n",
      "remote: Enumerating objects: 15994, done.\u001b[K\n",
      "remote: Counting objects: 100% (27/27), done.\u001b[K\n",
      "remote: Compressing objects: 100% (15/15), done.\u001b[K\n",
      "remote: Total 15994 (delta 18), reused 18 (delta 12), pack-reused 15967\u001b[K\n",
      "Receiving objects: 100% (15994/15994), 14.64 MiB | 1.29 MiB/s, done.\n",
      "Resolving deltas: 100% (10980/10980), done.\n",
      "/home/user/Downloads/Automated_Checkout-main/yolov5\n"
     ]
    }
   ],
   "source": [
    "!git clone https://github.com/ultralytics/yolov5\n",
    "%cd yolov5"
   ]
  },
  {
   "cell_type": "markdown",
   "metadata": {},
   "source": [
    "### Install required dependancies"
   ]
  },
  {
   "cell_type": "code",
   "execution_count": 2,
   "metadata": {
    "colab": {
     "base_uri": "https://localhost:8080/"
    },
    "id": "0bSHbZglsOjf",
    "outputId": "0b6f6170-94dd-47c6-996c-5a2b19eac695",
    "scrolled": true
   },
   "outputs": [
    {
     "name": "stdout",
     "output_type": "stream",
     "text": [
      "Collecting gitpython>=3.1.30\n",
      "  Downloading GitPython-3.1.37-py3-none-any.whl (190 kB)\n",
      "\u001b[K     |████████████████████████████████| 190 kB 8.4 MB/s eta 0:00:01\n",
      "\u001b[?25hRequirement already satisfied: matplotlib>=3.3 in /home/user/Downloads/Automated_Checkout-main/myenv/lib/python3.8/site-packages (from -r requirements.txt (line 6)) (3.7.3)\n",
      "Requirement already satisfied: numpy>=1.22.2 in /home/user/Downloads/Automated_Checkout-main/myenv/lib/python3.8/site-packages (from -r requirements.txt (line 7)) (1.24.4)\n",
      "Requirement already satisfied: opencv-python>=4.1.1 in /home/user/Downloads/Automated_Checkout-main/myenv/lib/python3.8/site-packages (from -r requirements.txt (line 8)) (4.8.0.76)\n",
      "Requirement already satisfied: Pillow>=7.1.2 in /home/user/Downloads/Automated_Checkout-main/myenv/lib/python3.8/site-packages (from -r requirements.txt (line 9)) (10.0.1)\n",
      "Requirement already satisfied: psutil in /home/user/Downloads/Automated_Checkout-main/myenv/lib/python3.8/site-packages (from -r requirements.txt (line 10)) (5.9.5)\n",
      "Requirement already satisfied: PyYAML>=5.3.1 in /home/user/Downloads/Automated_Checkout-main/myenv/lib/python3.8/site-packages (from -r requirements.txt (line 11)) (6.0.1)\n",
      "Requirement already satisfied: requests>=2.23.0 in /home/user/Downloads/Automated_Checkout-main/myenv/lib/python3.8/site-packages (from -r requirements.txt (line 12)) (2.31.0)\n",
      "Requirement already satisfied: scipy>=1.4.1 in /home/user/Downloads/Automated_Checkout-main/myenv/lib/python3.8/site-packages (from -r requirements.txt (line 13)) (1.10.1)\n",
      "Requirement already satisfied: thop>=0.1.1 in /home/user/Downloads/Automated_Checkout-main/myenv/lib/python3.8/site-packages (from -r requirements.txt (line 14)) (0.1.1.post2209072238)\n",
      "Requirement already satisfied: torch>=1.8.0 in /home/user/Downloads/Automated_Checkout-main/myenv/lib/python3.8/site-packages (from -r requirements.txt (line 15)) (2.0.1)\n",
      "Requirement already satisfied: torchvision>=0.9.0 in /home/user/Downloads/Automated_Checkout-main/myenv/lib/python3.8/site-packages (from -r requirements.txt (line 16)) (0.15.2)\n",
      "Requirement already satisfied: tqdm>=4.64.0 in /home/user/Downloads/Automated_Checkout-main/myenv/lib/python3.8/site-packages (from -r requirements.txt (line 17)) (4.66.1)\n",
      "Collecting ultralytics>=8.0.147\n",
      "  Downloading ultralytics-8.0.185-py3-none-any.whl (618 kB)\n",
      "\u001b[K     |████████████████████████████████| 618 kB 109.9 MB/s eta 0:00:01\n",
      "\u001b[?25hRequirement already satisfied: pandas>=1.1.4 in /home/user/Downloads/Automated_Checkout-main/myenv/lib/python3.8/site-packages (from -r requirements.txt (line 27)) (2.0.3)\n",
      "Requirement already satisfied: seaborn>=0.11.0 in /home/user/Downloads/Automated_Checkout-main/myenv/lib/python3.8/site-packages (from -r requirements.txt (line 28)) (0.12.2)\n",
      "Collecting setuptools>=65.5.1\n",
      "  Using cached setuptools-68.2.2-py3-none-any.whl (807 kB)\n",
      "Collecting gitdb<5,>=4.0.1\n",
      "  Using cached gitdb-4.0.10-py3-none-any.whl (62 kB)\n",
      "Requirement already satisfied: cycler>=0.10 in /home/user/Downloads/Automated_Checkout-main/myenv/lib/python3.8/site-packages (from matplotlib>=3.3->-r requirements.txt (line 6)) (0.11.0)\n",
      "Requirement already satisfied: fonttools>=4.22.0 in /home/user/Downloads/Automated_Checkout-main/myenv/lib/python3.8/site-packages (from matplotlib>=3.3->-r requirements.txt (line 6)) (4.42.1)\n",
      "Requirement already satisfied: python-dateutil>=2.7 in /home/user/Downloads/Automated_Checkout-main/myenv/lib/python3.8/site-packages (from matplotlib>=3.3->-r requirements.txt (line 6)) (2.8.2)\n",
      "Requirement already satisfied: importlib-resources>=3.2.0 in /home/user/Downloads/Automated_Checkout-main/myenv/lib/python3.8/site-packages (from matplotlib>=3.3->-r requirements.txt (line 6)) (6.1.0)\n",
      "Requirement already satisfied: kiwisolver>=1.0.1 in /home/user/Downloads/Automated_Checkout-main/myenv/lib/python3.8/site-packages (from matplotlib>=3.3->-r requirements.txt (line 6)) (1.4.5)\n",
      "Requirement already satisfied: contourpy>=1.0.1 in /home/user/Downloads/Automated_Checkout-main/myenv/lib/python3.8/site-packages (from matplotlib>=3.3->-r requirements.txt (line 6)) (1.1.1)\n",
      "Requirement already satisfied: packaging>=20.0 in /home/user/Downloads/Automated_Checkout-main/myenv/lib/python3.8/site-packages (from matplotlib>=3.3->-r requirements.txt (line 6)) (23.1)\n",
      "Requirement already satisfied: pyparsing>=2.3.1 in /home/user/Downloads/Automated_Checkout-main/myenv/lib/python3.8/site-packages (from matplotlib>=3.3->-r requirements.txt (line 6)) (3.1.1)\n",
      "Requirement already satisfied: certifi>=2017.4.17 in /home/user/Downloads/Automated_Checkout-main/myenv/lib/python3.8/site-packages (from requests>=2.23.0->-r requirements.txt (line 12)) (2023.7.22)\n",
      "Requirement already satisfied: urllib3<3,>=1.21.1 in /home/user/Downloads/Automated_Checkout-main/myenv/lib/python3.8/site-packages (from requests>=2.23.0->-r requirements.txt (line 12)) (1.26.16)\n",
      "Requirement already satisfied: idna<4,>=2.5 in /home/user/Downloads/Automated_Checkout-main/myenv/lib/python3.8/site-packages (from requests>=2.23.0->-r requirements.txt (line 12)) (3.4)\n",
      "Requirement already satisfied: charset-normalizer<4,>=2 in /home/user/Downloads/Automated_Checkout-main/myenv/lib/python3.8/site-packages (from requests>=2.23.0->-r requirements.txt (line 12)) (3.2.0)\n",
      "Requirement already satisfied: nvidia-cublas-cu11==11.10.3.66 in /home/user/Downloads/Automated_Checkout-main/myenv/lib/python3.8/site-packages (from torch>=1.8.0->-r requirements.txt (line 15)) (11.10.3.66)\n",
      "Requirement already satisfied: filelock in /home/user/Downloads/Automated_Checkout-main/myenv/lib/python3.8/site-packages (from torch>=1.8.0->-r requirements.txt (line 15)) (3.12.4)\n",
      "Requirement already satisfied: sympy in /home/user/Downloads/Automated_Checkout-main/myenv/lib/python3.8/site-packages (from torch>=1.8.0->-r requirements.txt (line 15)) (1.12)\n",
      "Requirement already satisfied: nvidia-curand-cu11==10.2.10.91 in /home/user/Downloads/Automated_Checkout-main/myenv/lib/python3.8/site-packages (from torch>=1.8.0->-r requirements.txt (line 15)) (10.2.10.91)\n",
      "Requirement already satisfied: typing-extensions in /home/user/Downloads/Automated_Checkout-main/myenv/lib/python3.8/site-packages (from torch>=1.8.0->-r requirements.txt (line 15)) (4.8.0)\n",
      "Requirement already satisfied: nvidia-cusparse-cu11==11.7.4.91 in /home/user/Downloads/Automated_Checkout-main/myenv/lib/python3.8/site-packages (from torch>=1.8.0->-r requirements.txt (line 15)) (11.7.4.91)\n",
      "Requirement already satisfied: networkx in /home/user/Downloads/Automated_Checkout-main/myenv/lib/python3.8/site-packages (from torch>=1.8.0->-r requirements.txt (line 15)) (3.1)\n",
      "Requirement already satisfied: nvidia-cuda-nvrtc-cu11==11.7.99 in /home/user/Downloads/Automated_Checkout-main/myenv/lib/python3.8/site-packages (from torch>=1.8.0->-r requirements.txt (line 15)) (11.7.99)\n",
      "Requirement already satisfied: jinja2 in /home/user/Downloads/Automated_Checkout-main/myenv/lib/python3.8/site-packages (from torch>=1.8.0->-r requirements.txt (line 15)) (3.1.2)\n",
      "Requirement already satisfied: nvidia-cudnn-cu11==8.5.0.96 in /home/user/Downloads/Automated_Checkout-main/myenv/lib/python3.8/site-packages (from torch>=1.8.0->-r requirements.txt (line 15)) (8.5.0.96)\n",
      "Requirement already satisfied: nvidia-cuda-runtime-cu11==11.7.99 in /home/user/Downloads/Automated_Checkout-main/myenv/lib/python3.8/site-packages (from torch>=1.8.0->-r requirements.txt (line 15)) (11.7.99)\n",
      "Requirement already satisfied: nvidia-nccl-cu11==2.14.3 in /home/user/Downloads/Automated_Checkout-main/myenv/lib/python3.8/site-packages (from torch>=1.8.0->-r requirements.txt (line 15)) (2.14.3)\n",
      "Requirement already satisfied: nvidia-cusolver-cu11==11.4.0.1 in /home/user/Downloads/Automated_Checkout-main/myenv/lib/python3.8/site-packages (from torch>=1.8.0->-r requirements.txt (line 15)) (11.4.0.1)\n",
      "Requirement already satisfied: nvidia-nvtx-cu11==11.7.91 in /home/user/Downloads/Automated_Checkout-main/myenv/lib/python3.8/site-packages (from torch>=1.8.0->-r requirements.txt (line 15)) (11.7.91)\n",
      "Requirement already satisfied: nvidia-cufft-cu11==10.9.0.58 in /home/user/Downloads/Automated_Checkout-main/myenv/lib/python3.8/site-packages (from torch>=1.8.0->-r requirements.txt (line 15)) (10.9.0.58)\n",
      "Requirement already satisfied: triton==2.0.0 in /home/user/Downloads/Automated_Checkout-main/myenv/lib/python3.8/site-packages (from torch>=1.8.0->-r requirements.txt (line 15)) (2.0.0)\n",
      "Requirement already satisfied: nvidia-cuda-cupti-cu11==11.7.101 in /home/user/Downloads/Automated_Checkout-main/myenv/lib/python3.8/site-packages (from torch>=1.8.0->-r requirements.txt (line 15)) (11.7.101)\n",
      "Requirement already satisfied: wheel in /home/user/Downloads/Automated_Checkout-main/myenv/lib/python3.8/site-packages (from nvidia-cublas-cu11==11.10.3.66->torch>=1.8.0->-r requirements.txt (line 15)) (0.41.2)\n",
      "Requirement already satisfied: cmake in /home/user/Downloads/Automated_Checkout-main/myenv/lib/python3.8/site-packages (from triton==2.0.0->torch>=1.8.0->-r requirements.txt (line 15)) (3.27.5)\n",
      "Requirement already satisfied: lit in /home/user/Downloads/Automated_Checkout-main/myenv/lib/python3.8/site-packages (from triton==2.0.0->torch>=1.8.0->-r requirements.txt (line 15)) (16.0.6)\n",
      "Collecting py-cpuinfo\n",
      "  Downloading py_cpuinfo-9.0.0-py3-none-any.whl (22 kB)\n",
      "Requirement already satisfied: pytz>=2020.1 in /home/user/Downloads/Automated_Checkout-main/myenv/lib/python3.8/site-packages (from pandas>=1.1.4->-r requirements.txt (line 27)) (2023.3.post1)\n",
      "Requirement already satisfied: tzdata>=2022.1 in /home/user/Downloads/Automated_Checkout-main/myenv/lib/python3.8/site-packages (from pandas>=1.1.4->-r requirements.txt (line 27)) (2023.3)\n",
      "Collecting smmap<6,>=3.0.1\n",
      "  Downloading smmap-5.0.1-py3-none-any.whl (24 kB)\n",
      "Requirement already satisfied: zipp>=3.1.0 in /home/user/Downloads/Automated_Checkout-main/myenv/lib/python3.8/site-packages (from importlib-resources>=3.2.0->matplotlib>=3.3->-r requirements.txt (line 6)) (3.17.0)\n",
      "Requirement already satisfied: six>=1.5 in /home/user/Downloads/Automated_Checkout-main/myenv/lib/python3.8/site-packages (from python-dateutil>=2.7->matplotlib>=3.3->-r requirements.txt (line 6)) (1.16.0)\n",
      "Requirement already satisfied: MarkupSafe>=2.0 in /home/user/Downloads/Automated_Checkout-main/myenv/lib/python3.8/site-packages (from jinja2->torch>=1.8.0->-r requirements.txt (line 15)) (2.1.3)\n",
      "Requirement already satisfied: mpmath>=0.19 in /home/user/Downloads/Automated_Checkout-main/myenv/lib/python3.8/site-packages (from sympy->torch>=1.8.0->-r requirements.txt (line 15)) (1.3.0)\n",
      "Installing collected packages: setuptools, smmap, py-cpuinfo, gitdb, ultralytics, gitpython\n",
      "  Attempting uninstall: setuptools\n",
      "    Found existing installation: setuptools 56.0.0\n",
      "    Uninstalling setuptools-56.0.0:\n",
      "      Successfully uninstalled setuptools-56.0.0\n",
      "Successfully installed gitdb-4.0.10 gitpython-3.1.37 py-cpuinfo-9.0.0 setuptools-68.2.2 smmap-5.0.1 ultralytics-8.0.185\n",
      "\u001b[33mWARNING: You are using pip version 21.1.1; however, version 23.2.1 is available.\n",
      "You should consider upgrading via the '/home/user/Downloads/Automated_Checkout-main/myenv/bin/python3 -m pip install --upgrade pip' command.\u001b[0m\n"
     ]
    }
   ],
   "source": [
    "!pip install -r requirements.txt"
   ]
  },
  {
   "cell_type": "markdown",
   "metadata": {},
   "source": [
    "### Importing Custom Dataset from Robo Flow"
   ]
  },
  {
   "cell_type": "code",
   "execution_count": 3,
   "metadata": {},
   "outputs": [
    {
     "name": "stdout",
     "output_type": "stream",
     "text": [
      "\u001b[33mWARNING: You are using pip version 21.1.1; however, version 23.2.1 is available.\n",
      "You should consider upgrading via the '/home/user/Downloads/Automated_Checkout-main/myenv/bin/python -m pip install --upgrade pip' command.\u001b[0m\n",
      "Note: you may need to restart the kernel to use updated packages.\n"
     ]
    }
   ],
   "source": [
    "%pip install -q roboflow"
   ]
  },
  {
   "cell_type": "code",
   "execution_count": 5,
   "metadata": {},
   "outputs": [
    {
     "name": "stdout",
     "output_type": "stream",
     "text": [
      "upload and label your dataset, and get an API KEY here: https://app.roboflow.com/?model=undefined&ref=undefined\n",
      "loading Roboflow workspace...\n"
     ]
    },
    {
     "ename": "AttributeError",
     "evalue": "'Roboflow' object has no attribute 'current_workspace'",
     "output_type": "error",
     "traceback": [
      "\u001b[0;31m---------------------------------------------------------------------------\u001b[0m",
      "\u001b[0;31mAttributeError\u001b[0m                            Traceback (most recent call last)",
      "\u001b[1;32m/home/user/Downloads/Automated_Checkout-main/Model.ipynb Cell 10\u001b[0m line \u001b[0;36m3\n\u001b[1;32m      <a href='vscode-notebook-cell:/home/user/Downloads/Automated_Checkout-main/Model.ipynb#X12sZmlsZQ%3D%3D?line=0'>1</a>\u001b[0m \u001b[39mfrom\u001b[39;00m \u001b[39mroboflow\u001b[39;00m \u001b[39mimport\u001b[39;00m Roboflow\n\u001b[1;32m      <a href='vscode-notebook-cell:/home/user/Downloads/Automated_Checkout-main/Model.ipynb#X12sZmlsZQ%3D%3D?line=1'>2</a>\u001b[0m rf \u001b[39m=\u001b[39m Roboflow(api_key\u001b[39m=\u001b[39m\u001b[39m\"\u001b[39m\u001b[39mYOUR API KEY HERE\u001b[39m\u001b[39m\"\u001b[39m)\n\u001b[0;32m----> <a href='vscode-notebook-cell:/home/user/Downloads/Automated_Checkout-main/Model.ipynb#X12sZmlsZQ%3D%3D?line=2'>3</a>\u001b[0m project \u001b[39m=\u001b[39m rf\u001b[39m.\u001b[39;49mworkspace()\u001b[39m.\u001b[39mproject(\u001b[39m\"\u001b[39m\u001b[39mYOUR PROJECT\u001b[39m\u001b[39m\"\u001b[39m)\n\u001b[1;32m      <a href='vscode-notebook-cell:/home/user/Downloads/Automated_Checkout-main/Model.ipynb#X12sZmlsZQ%3D%3D?line=3'>4</a>\u001b[0m dataset \u001b[39m=\u001b[39m project\u001b[39m.\u001b[39mversion(\u001b[39m\"\u001b[39m\u001b[39mYOUR VERSION\u001b[39m\u001b[39m\"\u001b[39m)\u001b[39m.\u001b[39mdownload(\u001b[39m\"\u001b[39m\u001b[39myolov5\u001b[39m\u001b[39m\"\u001b[39m)\n",
      "File \u001b[0;32m~/Downloads/Automated_Checkout-main/myenv/lib/python3.8/site-packages/roboflow/__init__.py:273\u001b[0m, in \u001b[0;36mRoboflow.workspace\u001b[0;34m(self, the_workspace)\u001b[0m\n\u001b[1;32m    270\u001b[0m sys\u001b[39m.\u001b[39mstdout\u001b[39m.\u001b[39mflush()\n\u001b[1;32m    272\u001b[0m \u001b[39mif\u001b[39;00m the_workspace \u001b[39mis\u001b[39;00m \u001b[39mNone\u001b[39;00m:\n\u001b[0;32m--> 273\u001b[0m     the_workspace \u001b[39m=\u001b[39m \u001b[39mself\u001b[39;49m\u001b[39m.\u001b[39;49mcurrent_workspace\n\u001b[1;32m    275\u001b[0m \u001b[39mif\u001b[39;00m \u001b[39mself\u001b[39m\u001b[39m.\u001b[39mapi_key \u001b[39min\u001b[39;00m DEMO_KEYS:\n\u001b[1;32m    276\u001b[0m     \u001b[39mreturn\u001b[39;00m Workspace({}, \u001b[39mself\u001b[39m\u001b[39m.\u001b[39mapi_key, the_workspace, \u001b[39mself\u001b[39m\u001b[39m.\u001b[39mmodel_format)\n",
      "\u001b[0;31mAttributeError\u001b[0m: 'Roboflow' object has no attribute 'current_workspace'"
     ]
    }
   ],
   "source": [
    "from roboflow import Roboflow\n",
    "rf = Roboflow(api_key=\"OsH1qgauRYpuQkxqK2S0\")\n",
    "project = rf.workspace().project(\"YOUR PROJECT\")\n",
    "dataset = project.version(\"YOUR VERSION\").download(\"yolov5\")"
   ]
  },
  {
   "cell_type": "markdown",
   "metadata": {},
   "source": [
    "### Train the model"
   ]
  },
  {
   "cell_type": "markdown",
   "metadata": {},
   "source": [
    "Here I've used custom dataset made with Roboflow. "
   ]
  },
  {
   "cell_type": "code",
   "execution_count": 1,
   "metadata": {
    "colab": {
     "base_uri": "https://localhost:8080/"
    },
    "id": "yb0bFlnjruY3",
    "outputId": "0234800b-247b-4b98-f7ad-9ff6095a5ac7"
   },
   "outputs": [
    {
     "name": "stdout",
     "output_type": "stream",
     "text": [
      "2023-10-04 13:01:21.333383: I tensorflow/core/platform/cpu_feature_guard.cc:182] This TensorFlow binary is optimized to use available CPU instructions in performance-critical operations.\n",
      "To enable the following instructions: AVX2, in other operations, rebuild TensorFlow with the appropriate compiler flags.\n",
      "2023-10-04 13:01:22.219332: W tensorflow/compiler/tf2tensorrt/utils/py_utils.cc:38] TF-TRT Warning: Could not find TensorRT\n",
      "\u001b[34m\u001b[1mtrain: \u001b[0mweights=yolov5s.pt, cfg=yolov5s.yaml, data=data.yaml, hyp=data/hyps/hyp.scratch-low.yaml, epochs=100, batch_size=32, imgsz=640, rect=False, resume=False, nosave=False, noval=False, noautoanchor=False, noplots=False, evolve=None, bucket=, cache=None, image_weights=False, device=, multi_scale=False, single_cls=False, optimizer=SGD, sync_bn=False, workers=24, project=runs/train, name=yolo_det_grocery_final, exist_ok=False, quad=False, cos_lr=False, label_smoothing=0.0, patience=100, freeze=[0], save_period=-1, seed=0, local_rank=-1, entity=None, upload_dataset=False, bbox_interval=-1, artifact_alias=latest\n",
      "\u001b[34m\u001b[1mgithub: \u001b[0mskipping check (not a git repository), for updates see https://github.com/ultralytics/yolov5\n",
      "YOLOv5 🚀 2022-11-14 Python-3.8.10 torch-2.0.1+cu117 CPU\n",
      "\n",
      "\u001b[34m\u001b[1mhyperparameters: \u001b[0mlr0=0.01, lrf=0.01, momentum=0.937, weight_decay=0.0005, warmup_epochs=3.0, warmup_momentum=0.8, warmup_bias_lr=0.1, box=0.05, cls=0.5, cls_pw=1.0, obj=1.0, obj_pw=1.0, iou_t=0.2, anchor_t=4.0, fl_gamma=0.0, hsv_h=0.015, hsv_s=0.7, hsv_v=0.4, degrees=0.0, translate=0.1, scale=0.5, shear=0.0, perspective=0.0, flipud=0.0, fliplr=0.5, mosaic=1.0, mixup=0.0, copy_paste=0.0\n",
      "\u001b[34m\u001b[1mWeights & Biases: \u001b[0mrun 'pip install wandb' to automatically track and visualize YOLOv5 🚀 runs (RECOMMENDED)\n",
      "\u001b[34m\u001b[1mTensorBoard: \u001b[0mStart with 'tensorboard --logdir runs/train', view at http://localhost:6006/\n",
      "\n",
      "Dataset not found ⚠️, missing paths ['/home/user/Downloads/Automated_Checkout-main/dataset/valid/images']\n",
      "Traceback (most recent call last):\n",
      "  File \"train.py\", line 625, in <module>\n",
      "    main(opt)\n",
      "  File \"train.py\", line 520, in main\n",
      "    train(opt.hyp, opt, device, callbacks)\n",
      "  File \"train.py\", line 106, in train\n",
      "    data_dict = data_dict or check_dataset(data)  # check if None\n",
      "  File \"/home/user/Downloads/Automated_Checkout-main/utils/general.py\", line 508, in check_dataset\n",
      "    raise Exception(emojis('Dataset not found ❌'))\n",
      "Exception: Dataset not found ❌\n"
     ]
    }
   ],
   "source": [
    "!python train.py --img 640 --cfg yolov5s.yaml --batch 32 --epochs 100 --data data.yaml --weights yolov5s.pt --workers 24 --name yolo_det_grocery_final"
   ]
  },
  {
   "cell_type": "markdown",
   "metadata": {},
   "source": [
    "### Validate the model"
   ]
  },
  {
   "cell_type": "code",
   "execution_count": 2,
   "metadata": {
    "colab": {
     "base_uri": "https://localhost:8080/"
    },
    "id": "nEK_xyteryGa",
    "outputId": "61db17cf-b453-4397-e9fd-dc39c1bfd831"
   },
   "outputs": [
    {
     "name": "stdout",
     "output_type": "stream",
     "text": [
      "\u001b[34m\u001b[1mdetect: \u001b[0mweights=['runs/train/yolo_det_grocery_final/weights/best.pt'], source=/content/yolov5/dataset/test/images, data=data/coco128.yaml, imgsz=[640, 640], conf_thres=0.25, iou_thres=0.45, max_det=1000, device=, view_img=False, save_txt=False, save_conf=False, save_crop=False, nosave=False, classes=None, agnostic_nms=False, augment=False, visualize=False, update=False, project=runs/detect, name=yolo_det_grocery_final2, exist_ok=False, line_thickness=3, hide_labels=False, hide_conf=False, half=False, dnn=False\n",
      "YOLOv5 🚀 2022-11-14 Python-3.8.10 torch-2.0.1+cu117 CPU\n",
      "\n",
      "Traceback (most recent call last):\n",
      "  File \"detect.py\", line 262, in <module>\n",
      "    main(opt)\n",
      "  File \"detect.py\", line 257, in main\n",
      "    run(**vars(opt))\n",
      "  File \"/home/user/Downloads/Automated_Checkout-main/myenv/lib/python3.8/site-packages/torch/utils/_contextlib.py\", line 115, in decorate_context\n",
      "    return func(*args, **kwargs)\n",
      "  File \"detect.py\", line 98, in run\n",
      "    model = DetectMultiBackend(weights, device=device, dnn=dnn, data=data, fp16=half)\n",
      "  File \"/home/user/Downloads/Automated_Checkout-main/models/common.py\", line 334, in __init__\n",
      "    model = attempt_load(weights if isinstance(weights, list) else w, device=device, inplace=True, fuse=fuse)\n",
      "  File \"/home/user/Downloads/Automated_Checkout-main/models/experimental.py\", line 80, in attempt_load\n",
      "    ckpt = torch.load(attempt_download(w), map_location='cpu')  # load\n",
      "  File \"/home/user/Downloads/Automated_Checkout-main/myenv/lib/python3.8/site-packages/torch/serialization.py\", line 791, in load\n",
      "    with _open_file_like(f, 'rb') as opened_file:\n",
      "  File \"/home/user/Downloads/Automated_Checkout-main/myenv/lib/python3.8/site-packages/torch/serialization.py\", line 271, in _open_file_like\n",
      "    return _open_file(name_or_buffer, mode)\n",
      "  File \"/home/user/Downloads/Automated_Checkout-main/myenv/lib/python3.8/site-packages/torch/serialization.py\", line 252, in __init__\n",
      "    super().__init__(open(name, mode))\n",
      "FileNotFoundError: [Errno 2] No such file or directory: 'runs/train/yolo_det_grocery_final/weights/best.pt'\n"
     ]
    }
   ],
   "source": [
    "!python detect.py --source /content/yolov5/dataset/test/images --weights runs/train/yolo_det_grocery_final/weights/best.pt --conf 0.25 --name yolo_det_grocery_final2"
   ]
  },
  {
   "cell_type": "markdown",
   "metadata": {},
   "source": [
    "### Run the detection on test samples"
   ]
  },
  {
   "cell_type": "code",
   "execution_count": 4,
   "metadata": {
    "colab": {
     "base_uri": "https://localhost:8080/",
     "height": 286
    },
    "id": "YZOA4IsfHFO7",
    "outputId": "d2829cce-3174-4127-88ba-1832f8d96269"
   },
   "outputs": [
    {
     "ename": "NameError",
     "evalue": "name 'os' is not defined",
     "output_type": "error",
     "traceback": [
      "\u001b[0;31m---------------------------------------------------------------------------\u001b[0m",
      "\u001b[0;31mNameError\u001b[0m                                 Traceback (most recent call last)",
      "\u001b[1;32m/home/user/Downloads/Automated_Checkout-main/Model.ipynb Cell 17\u001b[0m line \u001b[0;36m2\n\u001b[1;32m      <a href='vscode-notebook-cell:/home/user/Downloads/Automated_Checkout-main/Model.ipynb#X22sZmlsZQ%3D%3D?line=0'>1</a>\u001b[0m detections_dir \u001b[39m=\u001b[39m \u001b[39m\"\u001b[39m\u001b[39mruns/detect/yolo_det_grocery_final2/\u001b[39m\u001b[39m\"\u001b[39m\n\u001b[0;32m----> <a href='vscode-notebook-cell:/home/user/Downloads/Automated_Checkout-main/Model.ipynb#X22sZmlsZQ%3D%3D?line=1'>2</a>\u001b[0m detection_images \u001b[39m=\u001b[39m [os\u001b[39m.\u001b[39mpath\u001b[39m.\u001b[39mjoin(detections_dir, x) \u001b[39mfor\u001b[39;00m x \u001b[39min\u001b[39;00m os\u001b[39m.\u001b[39mlistdir(detections_dir)]\n\u001b[1;32m      <a href='vscode-notebook-cell:/home/user/Downloads/Automated_Checkout-main/Model.ipynb#X22sZmlsZQ%3D%3D?line=3'>4</a>\u001b[0m random_detection_image \u001b[39m=\u001b[39m Image\u001b[39m.\u001b[39mopen(random\u001b[39m.\u001b[39mchoice(detection_images))\n\u001b[1;32m      <a href='vscode-notebook-cell:/home/user/Downloads/Automated_Checkout-main/Model.ipynb#X22sZmlsZQ%3D%3D?line=4'>5</a>\u001b[0m plt\u001b[39m.\u001b[39mimshow(np\u001b[39m.\u001b[39marray(random_detection_image))\n",
      "\u001b[0;31mNameError\u001b[0m: name 'os' is not defined"
     ]
    }
   ],
   "source": [
    "detections_dir = \"runs/detect/yolo_det_grocery_final2/\"\n",
    "detection_images = [os.path.join(detections_dir, x) for x in os.listdir(detections_dir)]\n",
    "\n",
    "random_detection_image = Image.open(random.choice(detection_images))\n",
    "plt.imshow(np.array(random_detection_image))"
   ]
  },
  {
   "cell_type": "markdown",
   "metadata": {},
   "source": [
    "Here you can see that the model works well in detection and egg is predicted with 70% confidence"
   ]
  },
  {
   "cell_type": "markdown",
   "metadata": {},
   "source": [
    "### Save the best values of the model for future predictions"
   ]
  },
  {
   "cell_type": "code",
   "execution_count": null,
   "metadata": {
    "colab": {
     "base_uri": "https://localhost:8080/",
     "height": 35
    },
    "id": "Jl1GCRtT5gPo",
    "outputId": "ee870f79-5b1a-4766-cf0c-a6edecf4229e"
   },
   "outputs": [
    {
     "data": {
      "application/vnd.google.colaboratory.intrinsic+json": {
       "type": "string"
      },
      "text/plain": [
       "'/content/drive/MyDrive/best.pt'"
      ]
     },
     "execution_count": 19,
     "metadata": {},
     "output_type": "execute_result"
    }
   ],
   "source": [
    "shutil.copy(\"/content/yolov5/runs/train/yolo_det_grocery_final/weights/best.pt\",\"/content/drive/MyDrive/\")"
   ]
  }
 ],
 "metadata": {
  "colab": {
   "collapsed_sections": [],
   "name": "object_detection.ipynb",
   "provenance": []
  },
  "gpuClass": "standard",
  "kernelspec": {
   "display_name": "Python 3 (ipykernel)",
   "language": "python",
   "name": "python3"
  },
  "language_info": {
   "codemirror_mode": {
    "name": "ipython",
    "version": 3
   },
   "file_extension": ".py",
   "mimetype": "text/x-python",
   "name": "python",
   "nbconvert_exporter": "python",
   "pygments_lexer": "ipython3",
   "version": "3.8.10"
  }
 },
 "nbformat": 4,
 "nbformat_minor": 1
}
